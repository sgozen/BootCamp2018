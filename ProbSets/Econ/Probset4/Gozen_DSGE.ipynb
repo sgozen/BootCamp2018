{
 "cells": [
  {
   "cell_type": "code",
   "execution_count": 4,
   "metadata": {
    "collapsed": true
   },
   "outputs": [],
   "source": [
    "#import libraries\n",
    "import numpy as np\n",
    "from matplotlib import pyplot as plt\n",
    "import scipy.optimize as opt"
   ]
  },
  {
   "cell_type": "code",
   "execution_count": 5,
   "metadata": {
    "collapsed": true
   },
   "outputs": [],
   "source": [
    "#initilize parameters\n",
    "alpha = 0.40\n",
    "beta = 0.98\n",
    "delta = 0.10\n",
    "zbar = 0\n",
    "tau = 0.05\n",
    "xi = 1.5\n",
    "a = 0.5\n",
    "rho = 0.95\n",
    "sigma = 0.02\n",
    "gamma = 2.5"
   ]
  },
  {
   "cell_type": "code",
   "execution_count": 3,
   "metadata": {},
   "outputs": [
    {
     "data": {
      "text/plain": [
       "' Problem 5 '"
      ]
     },
     "execution_count": 3,
     "metadata": {},
     "output_type": "execute_result"
    }
   ],
   "source": [
    "\"\"\" Problem 5 \"\"\""
   ]
  },
  {
   "cell_type": "code",
   "execution_count": 6,
   "metadata": {},
   "outputs": [
    {
     "name": "stdout",
     "output_type": "stream",
     "text": [
      "Steady State Capital: [ 7.28749795]\n",
      "Steady State Output: [ 2.21325461]\n",
      "Steady State Investment: [ 0.7287498]\n"
     ]
    }
   ],
   "source": [
    "def get_c(w,r,k,l=1):\n",
    "    return w * l + (r - delta) * k\n",
    "\n",
    "def get_r(k,l=1):\n",
    "    return alpha * ((k)**(alpha-1)) * (l ** (1 - alpha))\n",
    "\n",
    "def get_w(k,l=1):\n",
    "    return (1 - alpha)*(k**alpha)*(l**(-alpha))\n",
    "\n",
    "def get_y(k, l =1):\n",
    "    return (k**alpha)*(l**(1-alpha))\n",
    "\n",
    "def get_i(k):\n",
    "    return delta*k\n",
    "\n",
    "def euler(state, *args):\n",
    "    gamma, alpha, beta, delta, tau = args\n",
    "    k = state[0]\n",
    "    w = get_w(k)\n",
    "    r = get_r(k)\n",
    "    c = get_c(w,r,k)\n",
    "    error = (c**(-gamma)) - beta*(c**(-gamma))*((1 - tau)*(r - delta) + 1)\n",
    "    return error\n",
    "\n",
    "state_init = 1\n",
    "args = (gamma, alpha, beta, delta, tau)\n",
    "k = opt.fsolve(euler, state_init, args = args)\n",
    "Y = get_y(k)\n",
    "I = get_i(k)\n",
    "print(\"Steady State Capital:\", k)\n",
    "print(\"Steady State Output:\", Y)\n",
    "print(\"Steady State Investment:\", I)"
   ]
  },
  {
   "cell_type": "code",
   "execution_count": 7,
   "metadata": {},
   "outputs": [
    {
     "data": {
      "text/plain": [
       "' Problem 6 '"
      ]
     },
     "execution_count": 7,
     "metadata": {},
     "output_type": "execute_result"
    }
   ],
   "source": [
    "\"\"\" Problem 6 \"\"\""
   ]
  },
  {
   "cell_type": "code",
   "execution_count": 8,
   "metadata": {},
   "outputs": [
    {
     "name": "stdout",
     "output_type": "stream",
     "text": [
      "Steady State Capital: 4.2252290268\n",
      "Steady State labor: 0.579791453167\n",
      "Steady State Output: 1.28322610883\n",
      "Steady State Investment: 0.42252290268\n"
     ]
    }
   ],
   "source": [
    "def euler(state, *args):\n",
    "    gamma, alpha, beta, delta, tau, a, xi = args\n",
    "    k, l = state\n",
    "    w = get_w(k, l)\n",
    "    r = get_r(k, l)\n",
    "    c = get_c(w, r, k, l)\n",
    "    error1 = (c**(-gamma)) - beta*(c**(-gamma))*((1 - tau)*(r - delta) + 1)\n",
    "    error2 = a*((1 - l) ** (-xi))- w * (c**(-gamma)) *(1 - tau)\n",
    "    return np.array([error1, error2])\n",
    "\n",
    "state_init = np.array([7,0.3])\n",
    "args = (gamma, alpha, beta, delta, tau, a, xi)\n",
    "k,l = opt.fsolve(euler, state_init, args = args)\n",
    "Y = get_y(k,l)\n",
    "I = get_i(k)\n",
    "print(\"Steady State Capital:\", k)\n",
    "print(\"Steady State labor:\", l)\n",
    "print(\"Steady State Output:\", Y)\n",
    "print(\"Steady State Investment:\", I)"
   ]
  },
  {
   "cell_type": "code",
   "execution_count": null,
   "metadata": {
    "collapsed": true
   },
   "outputs": [],
   "source": []
  }
 ],
 "metadata": {
  "kernelspec": {
   "display_name": "Python 3",
   "language": "python",
   "name": "python3"
  },
  "language_info": {
   "codemirror_mode": {
    "name": "ipython",
    "version": 3
   },
   "file_extension": ".py",
   "mimetype": "text/x-python",
   "name": "python",
   "nbconvert_exporter": "python",
   "pygments_lexer": "ipython3",
   "version": "3.6.3"
  }
 },
 "nbformat": 4,
 "nbformat_minor": 2
}
