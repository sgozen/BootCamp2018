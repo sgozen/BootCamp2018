{
 "cells": [
  {
   "cell_type": "code",
   "execution_count": null,
   "metadata": {
    "collapsed": true
   },
   "outputs": [],
   "source": [
    "SAM_entries = ['AGR', 'OIL', 'IND', 'SER', 'LAB', 'CAP', 'LAND',\n",
    "               'NTR', 'DTX', 'IDT', 'ACT', 'HOH', 'GOV', 'INV', 'EXT']\n",
    "\n",
    "goods = ['AGR', 'OIL', 'IND', 'SER']\n",
    "factor = ['LAB', 'CAP', 'LAND', 'NTR']\n",
    "noncapital = ['LAB', 'LAND', 'NTR']"
   ]
  }
 ],
 "metadata": {
  "kernelspec": {
   "display_name": "Python 3",
   "language": "python",
   "name": "python3"
  },
  "language_info": {
   "codemirror_mode": {
    "name": "ipython",
    "version": 3
   },
   "file_extension": ".py",
   "mimetype": "text/x-python",
   "name": "python",
   "nbconvert_exporter": "python",
   "pygments_lexer": "ipython3",
   "version": "3.6.3"
  }
 },
 "nbformat": 4,
 "nbformat_minor": 2
}
