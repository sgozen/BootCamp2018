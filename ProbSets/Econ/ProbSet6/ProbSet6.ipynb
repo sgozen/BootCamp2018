{
 "cells": [
  {
   "cell_type": "markdown",
   "metadata": {},
   "source": [
    "# Problem Set 6\n",
    "## Suleyman Gozen\n",
    "### I thank Yung-Hsu Tsui for his valuable comments."
   ]
  },
  {
   "cell_type": "markdown",
   "metadata": {},
   "source": [
    "## The Lucas Model"
   ]
  },
  {
   "cell_type": "code",
   "execution_count": null,
   "metadata": {
    "collapsed": true
   },
   "outputs": [],
   "source": [
    "import numpy as np\n",
    "import pandas as pd\n",
    "pd.core.common.is_list_like = pd.api.types.is_list_like #importing pandas_datareader gives me an error without this line\n",
    "import pandas_datareader.data as web\n",
    "import matplotlib.pyplot as plt\n",
    "import datetime\n",
    "from scipy import optimize as opt"
   ]
  },
  {
   "cell_type": "markdown",
   "metadata": {},
   "source": [
    "### Exercise 1"
   ]
  },
  {
   "cell_type": "code",
   "execution_count": null,
   "metadata": {
    "collapsed": true
   },
   "outputs": [],
   "source": [
    "def convert_to_daily_with_ffill(df):\n",
    "\n",
    "    new_idx = pd.date_range('01-01-1950', '07-01-2018')\n",
    "    df = df.reindex(new_idx)\n",
    "    df = df.fillna(method=\"ffill\")\n",
    "    return df\n",
    "\n",
    "start = datetime.datetime(1950, 1,1)\n",
    "end = datetime.datetime(2018, 7, 1)\n",
    "con = web.DataReader('PCECC96', 'fred', start, end)\n",
    "w5000 = web.DataReader('WILL5000INDFC', 'fred', start, end)\n",
    "w5000 = convert_to_daily_with_ffill(w5000)\n",
    "defl = web.DataReader('GDPDEF', 'fred', start, end)\n",
    "tbill = web.DataReader('TB3MS', 'fred', start, end)\n",
    "\n",
    "df = pd.DataFrame(columns=['con', 'w5000', 'tbill', 'defl'], index = con.index)\n",
    "df['con'] = con\n",
    "df['w5000'] = w5000\n",
    "df['defl'] = defl\n",
    "df['infl'] = df['defl']/df['defl'].shift(1) \n",
    "df['w5000_d'] = df['w5000']/df['infl']     \n",
    "df['R_nom'] = df['w5000'].shift(-1)/df['w5000']\n",
    "df['R'] = df['R_nom']/df['infl']\n",
    "df['tbill'] = tbill/100. + 1   \n",
    "df['con_1'] = con.shift(-1)\n",
    "df  = df.dropna(axis=0) \n",
    "df.head(10)"
   ]
  },
  {
   "cell_type": "code",
   "execution_count": null,
   "metadata": {
    "collapsed": true
   },
   "outputs": [],
   "source": [
    "c=np.array(df['con'], dtype=float)\n",
    "cp1 = np.array(df['con_1'], dtype =float)\n",
    "t = np.array(df['tbill'], dtype=float) #risk free rate\n",
    "R = np.array(df[\"R\"],dtype=float)\n",
    "w = np.array(df['w5000_d'])\n",
    "π = np.array(df['infl'], dtype=float)"
   ]
  },
  {
   "cell_type": "code",
   "execution_count": null,
   "metadata": {
    "collapsed": true
   },
   "outputs": [],
   "source": [
    "def m_tp1(ct, ctp1, γ):   \n",
    "    \n",
    "    β=.99\n",
    "    #m_tp1 = β*((ctp1/ct)**(-γ))\n",
    "    m_tp1= β/((ctp1/ct)**γ)\n",
    "    return m_tp1\n",
    "\n",
    "def mvec(γ):\n",
    "    \n",
    "    mvec = np.zeros(np.size(c))\n",
    "    for i in range(np.size(c)):\n",
    "        ct = float(c[i])\n",
    "        ctp1 = float(cp1[i])\n",
    "        mvec[i] = m_tp1(ct,ctp1,γ)\n",
    "        \n",
    "    return mvec"
   ]
  },
  {
   "cell_type": "code",
   "execution_count": null,
   "metadata": {
    "collapsed": true
   },
   "outputs": [],
   "source": [
    "def emp5(γ):\n",
    "    \n",
    "    m = mvec(γ)\n",
    "\n",
    "    #build a matrix with Rvec on first row, mvec on 2nd row, so we can determine covariance using np.cov\n",
    "    mat = np.vstack([R, m])  \n",
    "    \n",
    "    #compute covariance:\n",
    "    cov_mat = np.cov(mat)\n",
    "    cov = cov_mat[0,1] \n",
    "    \n",
    "    #compute expected values:\n",
    "    E_R = R.mean()\n",
    "    E_m = m.mean()\n",
    "    \n",
    "    output = cov + E_R * E_m \n",
    "    return output"
   ]
  },
  {
   "cell_type": "code",
   "execution_count": null,
   "metadata": {
    "collapsed": true
   },
   "outputs": [],
   "source": [
    "def crit(γ):\n",
    "    '''this is the function that we will optimize to find the equilibrium value of γ'''\n",
    "    \n",
    "    func = emp5(γ) - 1 #equation 5 \n",
    "    return func"
   ]
  },
  {
   "cell_type": "code",
   "execution_count": null,
   "metadata": {
    "collapsed": true
   },
   "outputs": [],
   "source": [
    "# find equilibrium γ\n",
    "γ_guess=40\n",
    "result = opt.broyden1(crit,γ_guess)\n",
    "print(\"equilibrium γ:\",result)"
   ]
  },
  {
   "cell_type": "markdown",
   "metadata": {},
   "source": [
    "### Exercise 3"
   ]
  },
  {
   "cell_type": "code",
   "execution_count": null,
   "metadata": {
    "collapsed": true
   },
   "outputs": [],
   "source": [
    "def crit3(γ):\n",
    "    \n",
    "    #get expected value of m \n",
    "    m = mvec(γ)\n",
    "    Em = m.mean()\n",
    "    \n",
    "    #equation (7):\n",
    "    error = t - 1/Em  \n",
    "    squarred_error = np.sum(error**2)\n",
    "    return squarred_error"
   ]
  },
  {
   "cell_type": "code",
   "execution_count": null,
   "metadata": {
    "collapsed": true
   },
   "outputs": [],
   "source": [
    "# find equilibrium γ\n",
    "γ_guess3=2\n",
    "result3 = opt.root(crit3,γ_guess3)\n",
    "print(\"equilibrium γ:\",result3.x)"
   ]
  },
  {
   "cell_type": "markdown",
   "metadata": {},
   "source": [
    "### Exercise 4"
   ]
  },
  {
   "cell_type": "code",
   "execution_count": null,
   "metadata": {
    "collapsed": true
   },
   "outputs": [],
   "source": [
    "#functions that get m_t : \n",
    "def m_tp1_2(ct, ctp1, γ, β):   \n",
    "    \n",
    "    m_tp1= β/((ctp1/ct)**γ)\n",
    "    return m_tp1\n",
    "\n",
    "def mvec2(γ,β):\n",
    "    \n",
    "    mvec = np.zeros(np.size(c))\n",
    "    for i in range(np.size(c)):\n",
    "        ct = float(c[i])\n",
    "        ctp1 = float(cp1[i])\n",
    "        mvec[i] = m_tp1_2(ct,ctp1,γ,β)\n",
    "        \n",
    "    return mvec"
   ]
  },
  {
   "cell_type": "code",
   "execution_count": null,
   "metadata": {
    "collapsed": true
   },
   "outputs": [],
   "source": [
    "def err4(params):\n",
    "    \n",
    "    γ,β= params\n",
    "    \n",
    "    m = mvec2(γ,β)\n",
    "    \n",
    "    #build a matrix with Rvec on first row, mvec on 2nd row, so we can determine covariance using np.cov\n",
    "    mat = np.vstack([R, m])  \n",
    "    \n",
    "    #compute covariance:\n",
    "    cov_mat = np.cov(mat)\n",
    "    cov = cov_mat[0,1] \n",
    "    \n",
    "    #compute expected values:\n",
    "    E_R = R.mean()\n",
    "    E_m = m.mean()\n",
    "    \n",
    "    #equation 5:\n",
    "    moment1 = cov + E_R * E_m - 1\n",
    "    \n",
    "    Em = m.mean()\n",
    "    \n",
    "    #equation (7):\n",
    "    error = t - 1/Em  \n",
    "    moment2 = np.sum(error**2)\n",
    "    \n",
    "    moments = np.array([moment1,moment2])\n",
    "    \n",
    "    return moments"
   ]
  },
  {
   "cell_type": "code",
   "execution_count": null,
   "metadata": {
    "collapsed": true
   },
   "outputs": [],
   "source": [
    "def crit4(params, W):\n",
    "    γ,β= params\n",
    "    \n",
    "    error = err4(params)\n",
    "    \n",
    "    crit = error.T@W@error\n",
    "    return crit"
   ]
  },
  {
   "cell_type": "code",
   "execution_count": null,
   "metadata": {
    "collapsed": true
   },
   "outputs": [],
   "source": [
    "γ_guess = 4\n",
    "β_guess = .95\n",
    "W = np.eye(2)\n",
    "guess4 = np.array([γ_guess,β_guess])\n",
    "args4=W\n",
    "\n",
    "result4 = opt.minimize(crit4, guess4, args = args4,method = 'L-BFGS-B', bounds = ((1e-10, None), (1e-10, 1)))\n",
    "\n",
    "print(\"optimal γ:\", result4.x[0],\"\\noptimal β:\",result4.x[1])"
   ]
  },
  {
   "cell_type": "code",
   "execution_count": null,
   "metadata": {
    "collapsed": true
   },
   "outputs": [],
   "source": [
    "n = 60\n",
    "N = 5\n",
    "γ_grid = np.linspace(0, 5, n)\n",
    "β_grid = np.linspace(0.95, 0.99, N)\n",
    "crit4_values = np.zeros((n, N))\n",
    "for i in range(n):\n",
    "    for j in range(N):\n",
    "        crit4_values[i, j] = crit4((gamma_grid[i], beta_grid[j]), W)\n",
    "        \n",
    "for j in range(N):\n",
    "    plt.plot(γ_grid, crit4_values[:, j], label=rf'$beta$ = {beta_grid[j]:.2f}')\n",
    "plt.xlabel('gamma')\n",
    "plt.legend()\n",
    "plt.show()"
   ]
  },
  {
   "cell_type": "markdown",
   "metadata": {},
   "source": [
    "## The Kyle Model"
   ]
  },
  {
   "cell_type": "code",
   "execution_count": null,
   "metadata": {
    "collapsed": true
   },
   "outputs": [],
   "source": [
    "import numpy as np\n",
    "import pandas as pd\n",
    "import pickle\n",
    "from matplotlib import pyplot as plt\n",
    "import statsmodels.formula.api as sm"
   ]
  },
  {
   "cell_type": "code",
   "execution_count": null,
   "metadata": {
    "collapsed": true
   },
   "outputs": [],
   "source": [
    "# load data from pickle files\n",
    "AAPL = pickle.load(open(\"AAPL\", \"rb\"))\n",
    "C = pickle.load(open(\"C\", \"rb\"))\n",
    "GBX = pickle.load(open(\"GBX\", \"rb\"))\n",
    "SPY = pickle.load(open(\"SPY\", \"rb\"))\n",
    "THO = pickle.load(open(\"THO\", \"rb\"))"
   ]
  },
  {
   "cell_type": "markdown",
   "metadata": {},
   "source": [
    "### Exercise 1"
   ]
  },
  {
   "cell_type": "code",
   "execution_count": null,
   "metadata": {
    "collapsed": true
   },
   "outputs": [],
   "source": [
    "class orderbook:\n",
    "    \n",
    "    def __init__(self, orderbook):\n",
    "        \n",
    "        self.timestamp = orderbook[0]\n",
    "        orderbook = pd.DataFrame.from_dict(orderbook[1], orient='index')\n",
    "        orderbook.drop(columns=[2, 3], inplace=True)\n",
    "        orderbook.reset_index(inplace=True)\n",
    "        orderbook.columns = ['price', 'quantity', 'side']\n",
    "        orderbook.sort_values('price', inplace=True)\n",
    "        buy = orderbook[orderbook.side == 'B'].sort_values('price', ascending=False)\n",
    "        buy['y'] = -buy['quantity'].cumsum()  # buying = selling negative assets\n",
    "        \n",
    "        sell = orderbook[orderbook.side == 'S'].sort_values('price', ascending=True)  \n",
    "        sell['y'] = sell['quantity'].cumsum()\n",
    "        \n",
    "        orderbook = pd.concat([buy, sell])\n",
    "        orderbook.sort_values('price', inplace=True)\n",
    "        self.orderbook = orderbook\n",
    "        p0 = self.find_p0()  # get midpoint of BBO\n",
    "        \n",
    "        #dataframe with data within 50% of BBO\n",
    "        self.orderbook50 = orderbook[(orderbook.price <= p0 * 1.5)  & (orderbook.price >= p0 * 0.5)]\n",
    "        \n",
    "        #dataframe with data within 5% of BBO\n",
    "        self.orderbook5 = orderbook[(orderbook.price <= p0 * 1.05) & (orderbook.price >= p0 * 0.95)]\n",
    "\n",
    "    def plot(self):\n",
    "        '''plot data'''\n",
    "        orderbook = self.orderbook\n",
    "        plt.plot(orderbook.price, orderbook.y, label='Orderbook') \n",
    "        plt.xlabel('price')\n",
    "        plt.ylabel('quantity')\n",
    "        plt.legend()\n",
    "\n",
    "    def plot50(self):\n",
    "        '''plot data within 50% of BBO'''\n",
    "        orderbook50 = self.orderbook50\n",
    "        plt.plot(orderbook50.price, orderbook50.y, label='Orderbook') \n",
    "        plt.xlabel('price')\n",
    "        plt.ylabel('quantity')\n",
    "        plt.legend()\n",
    "\n",
    "    def OLS(self, orderbook):\n",
    "        '''regress cumulative sum on price'''\n",
    "        result = sm.ols(formula=\"y ~ price\", data=orderbook).fit()  \n",
    "        return result.params\n",
    "\n",
    "    def plot_estimates(self):\n",
    "        orderbook5 = self.orderbook5\n",
    "        orderbook50 = self.orderbook50\n",
    "        ols_params = self.OLS(orderbook5)  # fit linear regression to data within 5% of BBO\n",
    "        γ = ols_params[0]\n",
    "        β = ols_params[1]\n",
    "        estimate = γ + β * orderbook50.price\n",
    "        plt.plot(orderbook50.price, estimate, label='Estimate')\n",
    "        plt.xlim(orderbook50.price.min(), orderbook50.price.max())\n",
    "        plt.ylim(orderbook50.y.min() * 1.1, orderbook50.y.max() * 1.1)\n",
    "        plt.xlabel('price')\n",
    "        plt.ylabel('quantity')\n",
    "        plt.legend()\n",
    "\n",
    "    def find_p0(self):\n",
    "        orderbook = self.orderbook\n",
    "        best_offer = orderbook[orderbook.side == 'S'].price.min()\n",
    "        best_bid = orderbook[orderbook.side == 'B'].price.max()\n",
    "        return (best_offer + best_bid) / 2  # actual midpoint of BBO\n",
    "    \n",
    "\n",
    "\n",
    "    \n",
    "    def find_p0_5(self):\n",
    "        '''find p for data within 5% of BBO'''\n",
    "     \n",
    "        orderbook = self.orderbook\n",
    "        p0 = self.find_p0()\n",
    "        best_offer = orderbook[(orderbook.side == 'S') & (orderbook.price <= p0 * 1.05)& (orderbook.price >= p0 * 0.95)].price.min()\n",
    "        best_bid = orderbook[(orderbook.side == 'B')& (orderbook.price <= p0 * 1.05)& (orderbook.price >= p0 * 0.95)].price.max()\n",
    "        return (best_offer + best_bid) / 2  # actual midpoint of BBO"
   ]
  },
  {
   "cell_type": "code",
   "execution_count": null,
   "metadata": {
    "collapsed": true
   },
   "outputs": [],
   "source": [
    "aapl0 = orderbook(C[0])\n",
    "aapl0.plot()\n",
    "aapl0.plot_estimates()\n",
    "plt.title(\"AAPL, timestamp 34260, all data\")\n",
    "plt.show()\n",
    "\n",
    "c0 = orderbook(C[0])\n",
    "c0.plot()\n",
    "c0.plot_estimates()\n",
    "plt.title(\"C, timestamp 34260, all data\")\n",
    "plt.show()\n",
    "\n",
    "gbx0 = orderbook(GBX[0])\n",
    "gbx0.plot()\n",
    "gbx0.plot_estimates()\n",
    "plt.title(\"GBX, timestamp 34260, all data\")\n",
    "plt.show()\n",
    "\n",
    "tho0 = orderbook(THO[0])\n",
    "tho0.plot()\n",
    "tho0.plot_estimates()\n",
    "plt.title(\"THO, timestamp 34260, all data\")\n",
    "plt.show()\n",
    "\n",
    "spy0 = orderbook(SPY[0])\n",
    "spy0.plot()\n",
    "spy0.plot_estimates()\n",
    "plt.title(\"SPY, timestamp 34260, all data\")\n",
    "plt.show()"
   ]
  },
  {
   "cell_type": "code",
   "execution_count": null,
   "metadata": {
    "collapsed": true
   },
   "outputs": [],
   "source": [
    "aapl0.plot50()\n",
    "aapl0.plot_estimates()\n",
    "plt.title(\"AAPL, timestamp 34260, data within 50% of BBO\")\n",
    "plt.show()\n",
    "\n",
    "c0.plot50()\n",
    "c0.plot_estimates()\n",
    "plt.title(\"C, timestamp 34260, data within 50% of BBO\")\n",
    "plt.show()\n",
    "\n",
    "gbx0.plot50()\n",
    "gbx0.plot_estimates()\n",
    "plt.title(\"GBX, timestamp 34260, data within 50% of BBO\")\n",
    "plt.show()\n",
    "\n",
    "tho0.plot50()\n",
    "tho0.plot_estimates()\n",
    "plt.title(\"THO, timestamp 34260, data within 50% of BBO\")\n",
    "plt.show()\n",
    "\n",
    "spy0.plot50()\n",
    "spy0.plot_estimates()\n",
    "plt.title(\"SPY, timestamp 34260, data within 50% of BBO\")\n",
    "plt.show()"
   ]
  },
  {
   "cell_type": "markdown",
   "metadata": {},
   "source": [
    "### Exercise 2"
   ]
  },
  {
   "cell_type": "code",
   "execution_count": null,
   "metadata": {
    "collapsed": true
   },
   "outputs": [],
   "source": [
    "class ticker:\n",
    "    \n",
    "    def __init__(self, orderbooks):\n",
    "        self.orderbooks = [orderbook(Orderbook) for Orderbook in orderbooks]  # index over all orderbook\n",
    "        self.timestamps = [orderbook.timestamp for orderbook in self.orderbooks]  # all timestamps\n",
    "        #self.orderbooks5 = [orderbook(Orderbook).orderbook5 for Orderbook in orderbooks]\n",
    "    \n",
    "    def estimateβ(self):\n",
    "        '''computes estimates of β for each orderbook\n",
    "        uses data within 5% of the BBO'''\n",
    "        orderbooks = self.orderbooks\n",
    "        β = np.array([orderbook.OLS(orderbook.orderbook5)[1] for orderbook in orderbooks]) \n",
    "        return β\n",
    "    \n",
    "    def estimateγ(self):\n",
    "        '''computes estimates of γ for each orderbook\n",
    "        uses data within 5% of the BBO'''\n",
    "        orderbooks = self.orderbooks\n",
    "        γ = np.array([orderbook.OLS(orderbook.orderbook5)[0] for orderbook in orderbooks])  \n",
    "        return γ\n",
    "    \n",
    "    def plotβ(self):\n",
    "        β = self.estimateβ()  \n",
    "        plt.plot(self.timestamps, β)\n",
    "        plt.xlabel('timestamp')\n",
    "        plt.ylabel('Noise/Signal Ratio (β)')\n",
    "        \n",
    "    def plot_p0_estimates(self):\n",
    "        β = self.estimateβ()\n",
    "        γ = self.estimateγ()\n",
    "        p0 = - γ / β  # estimate BBO\n",
    "        plt.plot(self.timestamps, p0, label='Estimated p_0')\n",
    "        plt.xlabel('Seconds after midnight')\n",
    "        plt.ylabel('BB0')\n",
    "        plt.legend()\n",
    "    \n",
    "    def plot_p0(self):\n",
    "        '''plots'''\n",
    "        orderbooks = self.orderbooks\n",
    "        p0 = np.array([orderbook.find_p0() for orderbook in orderbooks]) \n",
    "        plt.plot(self.timestamps, p0, label='data BBO, all data')\n",
    "        plt.xlabel('timestamp')\n",
    "        plt.ylabel('BBO')\n",
    "        plt.legend()\n",
    "        \n",
    "    def plot_p0_5(self):\n",
    "        '''plots actual p0 for data within 5% of BBO'''\n",
    "        orderbooks = self.orderbooks\n",
    "        p0 = np.array([orderbook.find_p0_5() for orderbook in orderbooks]) \n",
    "                \n",
    "        #p0 = np.array([orderbook.find_p0() for orderbook in orderbooks]) \n",
    "\n",
    "        plt.plot(self.timestamps, p0, label='data BBO, data within 5% of BBO')\n",
    "        plt.xlabel('timestamp')\n",
    "        plt.ylabel('BBO')\n",
    "        plt.legend()"
   ]
  },
  {
   "cell_type": "code",
   "execution_count": null,
   "metadata": {
    "collapsed": true
   },
   "outputs": [],
   "source": [
    "aapl = ticker(AAPL)"
   ]
  },
  {
   "cell_type": "code",
   "execution_count": null,
   "metadata": {
    "collapsed": true
   },
   "outputs": [],
   "source": [
    "aapl.plot_p0_5()\n",
    "#aapl.plot_p0()\n",
    "aapl.plot_p0_estimates()"
   ]
  },
  {
   "cell_type": "code",
   "execution_count": null,
   "metadata": {
    "collapsed": true
   },
   "outputs": [],
   "source": [
    "aapl = ticker(AAPL)\n",
    "tho = ticker(THO)\n",
    "spy = ticker(SPY)\n",
    "gbx = ticker(GBX)\n",
    "c = ticker(C)"
   ]
  },
  {
   "cell_type": "code",
   "execution_count": null,
   "metadata": {
    "collapsed": true
   },
   "outputs": [],
   "source": [
    "aapl.plotβ()\n",
    "plt.title(\"AAPL, β estimates\")\n",
    "plt.show()\n",
    "\n",
    "tho.plotβ()\n",
    "plt.title(\"THO, β estimates\")\n",
    "plt.show()\n",
    "\n",
    "spy.plotβ()\n",
    "plt.title(\"SPY, β estimates\")\n",
    "plt.show()\n",
    "\n",
    "c.plotβ()\n",
    "plt.title(\"C, β estimates\")\n",
    "plt.show()\n",
    "\n",
    "gbx.plotβ()\n",
    "plt.title(\"GBX, β estimates\")\n",
    "plt.show()"
   ]
  },
  {
   "cell_type": "markdown",
   "metadata": {},
   "source": [
    "### Exercise 3"
   ]
  },
  {
   "cell_type": "code",
   "execution_count": null,
   "metadata": {
    "collapsed": true
   },
   "outputs": [],
   "source": [
    "aapl.plot_p0_estimates()\n",
    "aapl.plot_p0()\n",
    "plt.title(\"AAPL estimated vs. data BBO\")\n",
    "plt.show()\n",
    "\n",
    "spy.plot_p0_estimates()\n",
    "spy.plot_p0()\n",
    "plt.title(\"SPY estimated vs. data BBO\")\n",
    "plt.show()\n",
    "\n",
    "c.plot_p0_estimates()\n",
    "c.plot_p0()\n",
    "plt.title(\"C estimated vs. data BBO\")\n",
    "plt.show()\n",
    "\n",
    "gbx.plot_p0_estimates()\n",
    "gbx.plot_p0()\n",
    "plt.title(\"GBX estimated vs. data BBO\")\n",
    "plt.show()\n",
    "\n",
    "tho.plot_p0_estimates()\n",
    "tho.plot_p0()\n",
    "plt.title(\"THO estimated vs. data BBO\")\n",
    "plt.show()"
   ]
  }
 ],
 "metadata": {
  "kernelspec": {
   "display_name": "Python 3",
   "language": "python",
   "name": "python3"
  },
  "language_info": {
   "codemirror_mode": {
    "name": "ipython",
    "version": 3
   },
   "file_extension": ".py",
   "mimetype": "text/x-python",
   "name": "python",
   "nbconvert_exporter": "python",
   "pygments_lexer": "ipython3",
   "version": "3.6.3"
  }
 },
 "nbformat": 4,
 "nbformat_minor": 2
}
