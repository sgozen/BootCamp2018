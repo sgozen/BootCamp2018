{
 "cells": [
  {
   "cell_type": "markdown",
   "metadata": {},
   "source": [
    "# Problem Set 7\n",
    "### Suleyman Gozen\n",
    "\n",
    "\n",
    "I thank Rebekah Dix. "
   ]
  },
  {
   "cell_type": "code",
   "execution_count": 1,
   "metadata": {
    "collapsed": true
   },
   "outputs": [],
   "source": [
    "import numpy as np\n",
    "import scipy.optimize as opt\n",
    "import matplotlib.pyplot as plt"
   ]
  },
  {
   "cell_type": "markdown",
   "metadata": {},
   "source": [
    "# Problem 1"
   ]
  },
  {
   "cell_type": "code",
   "execution_count": 2,
   "metadata": {
    "collapsed": true
   },
   "outputs": [],
   "source": [
    "def opt_newton(Df, D2f, x, maxiter=100, tol=1e-5):\n",
    "    \n",
    "    converged = False\n",
    "    xk = x\n",
    "    it = 0\n",
    "    err = tol + 1\n",
    "    \n",
    "    while it < maxiter and err > tol:\n",
    "        Dfxk = Df(xk)\n",
    "        D2fxk = D2f(xk)\n",
    "        \n",
    "        zk = np.linalg.solve(D2fxk, Dfxk)\n",
    "        xkp1 = xk - zk\n",
    "        \n",
    "        err = np.linalg.norm(Dfxk, np.inf)\n",
    "        it += 1\n",
    "        \n",
    "        xk = xkp1\n",
    "        \n",
    "    if it < maxiter:\n",
    "        converged = True\n",
    "    \n",
    "    return xk, converged, it"
   ]
  },
  {
   "cell_type": "code",
   "execution_count": 3,
   "metadata": {},
   "outputs": [
    {
     "data": {
      "text/plain": [
       "(array([1., 1.]), True, 6)"
      ]
     },
     "execution_count": 3,
     "metadata": {},
     "output_type": "execute_result"
    }
   ],
   "source": [
    "opt_newton(opt.rosen_der, opt.rosen_hess, np.array([-2, 2]))"
   ]
  },
  {
   "cell_type": "markdown",
   "metadata": {},
   "source": [
    "Let's compare with a scipy routine:"
   ]
  },
  {
   "cell_type": "code",
   "execution_count": 4,
   "metadata": {},
   "outputs": [
    {
     "name": "stdout",
     "output_type": "stream",
     "text": [
      "Optimization terminated successfully.\n",
      "         Current function value: 0.000000\n",
      "         Iterations: 35\n",
      "         Function evaluations: 42\n",
      "         Gradient evaluations: 42\n"
     ]
    },
    {
     "data": {
      "text/plain": [
       "array([1.00000021, 1.00000045])"
      ]
     },
     "execution_count": 4,
     "metadata": {},
     "output_type": "execute_result"
    }
   ],
   "source": [
    "opt.fmin_bfgs(opt.rosen, np.array([-2, 2]), fprime=opt.rosen_der)"
   ]
  },
  {
   "cell_type": "markdown",
   "metadata": {},
   "source": [
    "# Problem 2"
   ]
  },
  {
   "cell_type": "code",
   "execution_count": 5,
   "metadata": {
    "collapsed": true
   },
   "outputs": [],
   "source": [
    "def bfgs(Df, x, maxiter=500, tol=1e-5):\n",
    "    \n",
    "    n = len(x)\n",
    "    Akinv = np.eye(n)\n",
    "    \n",
    "    converged = False\n",
    "    terminateEarly = False\n",
    "    xk = x\n",
    "    it = 0\n",
    "    err = tol + 1\n",
    "    \n",
    "    while it < maxiter and err > tol:\n",
    "        \n",
    "        Dfxk = Df(xk)\n",
    "        xkp1 = xk - Akinv @ Dfxk.T\n",
    "        \n",
    "        # Update A_k\n",
    "        sk = xkp1 - xk\n",
    "        Dfxkp1 = Df(xkp1)\n",
    "        yk = Dfxkp1.T - Dfxk.T\n",
    "        skdotyk = sk.T @ yk\n",
    "        \n",
    "        term1den = (skdotyk) ** 2\n",
    "        if term1den < 1e-50:\n",
    "            print('Terminated because dviding by 0.')\n",
    "            terminateEarly = True\n",
    "            converged = False\n",
    "            break\n",
    "        term1num = (skdotyk + yk.T @ Akinv @ yk) * np.outer(sk, sk)\n",
    "        \n",
    "        term2num = Akinv @ np.outer(yk, sk) + np.outer(sk, yk) @ Akinv\n",
    "        term2den = skdotyk\n",
    "        \n",
    "        Akp1inv = Akinv + term1num/term1den - term2num/term2den\n",
    "        \n",
    "        # Update stopping conditions\n",
    "        err = np.linalg.norm(Dfxk, np.inf)\n",
    "        it += 1\n",
    "        \n",
    "        xk = xkp1\n",
    "        Akinv = Akp1inv\n",
    "        \n",
    "    if it < maxiter and not terminateEarly:\n",
    "        converged = True\n",
    "        \n",
    "    return xk, converged, it\n",
    "\n"
   ]
  },
  {
   "cell_type": "code",
   "execution_count": 6,
   "metadata": {},
   "outputs": [
    {
     "data": {
      "text/plain": [
       "(array([0.99999999, 0.99999998]), True, 149)"
      ]
     },
     "execution_count": 6,
     "metadata": {},
     "output_type": "execute_result"
    }
   ],
   "source": [
    "bfgs(opt.rosen_der, np.array([-2, 2]))"
   ]
  },
  {
   "cell_type": "markdown",
   "metadata": {},
   "source": [
    "# Problem 3"
   ]
  },
  {
   "cell_type": "code",
   "execution_count": 7,
   "metadata": {
    "collapsed": true
   },
   "outputs": [],
   "source": [
    "import time\n",
    "\n",
    "def compare_methods(N):\n",
    "    \n",
    "    time_newton = np.zeros(N, dtype=np.float64)\n",
    "    time_bfgs = np.zeros(N, dtype=np.float64)\n",
    "    time_scipy = np.zeros(N, dtype=np.float64)\n",
    "    \n",
    "    its_newton = np.zeros(N)\n",
    "    its_bfgs = np.zeros(N)\n",
    "    its_scipy = np.zeros(N)\n",
    "    \n",
    "    for ii in range(N):\n",
    "        # Sample a random initial guess x_0 from the \n",
    "        # 2-D uniform distribution over [−3, 3] × [−3, 3].\n",
    "        x = np.random.uniform(low=-3, high=3, size=2)\n",
    "    \n",
    "        time_start_exact = time.time()\n",
    "        xk, converged, it = opt_newton(opt.rosen_der, opt.rosen_hess, x)\n",
    "        time_newton[ii] =  time.time() - time_start_exact\n",
    "        its_newton[ii] = it\n",
    "        \n",
    "        time_start_exact = time.time()\n",
    "        xk, converged, it = bfgs(opt.rosen_der, x)\n",
    "        time_bfgs[ii] =  time.time() - time_start_exact\n",
    "        its_bfgs[ii] = it\n",
    "        \n",
    "        time_start_exact = time.time()\n",
    "        out = opt.fmin_bfgs(opt.rosen, x, fprime=opt.rosen_der, disp=False, retall=1)\n",
    "        time_scipy[ii] =  time.time() - time_start_exact\n",
    "        its_scipy[ii] = len(out[1])\n",
    "    \n",
    "    fig = plt.figure(figsize=(10,7))\n",
    "    plt.loglog()\n",
    "    plt.scatter(time_newton, its_newton, alpha=0.5, label='Newton\\'s Method')\n",
    "    plt.scatter(time_bfgs, its_bfgs, alpha=0.5, label='BFGS')\n",
    "    plt.scatter(time_scipy, its_scipy, alpha=0.5, label='scipy.optimize.fmin_bfgs()')\n",
    "    plt.xlabel('Time (seconds)')\n",
    "    plt.ylabel('Iterations')\n",
    "    plt.title('Comparing Computation Time and Iterations Across Minimizers')\n",
    "    plt.legend()\n",
    "    plt.show()\n",
    "    \n",
    "    "
   ]
  },
  {
   "cell_type": "code",
   "execution_count": 8,
   "metadata": {},
   "outputs": [
    {
     "data": {
      "image/png": "[encoded data removed]",
      "text/plain": [
       "<Figure size 720x504 with 1 Axes>"
      ]
     },
     "metadata": {},
     "output_type": "display_data"
    }
   ],
   "source": [
    "compare_methods(100)"
   ]
  },
  {
   "cell_type": "markdown",
   "metadata": {},
   "source": [
    "# Problem 4"
   ]
  },
  {
   "cell_type": "code",
   "execution_count": 9,
   "metadata": {
    "collapsed": true
   },
   "outputs": [],
   "source": [
    "def gnm(phi, r, J, x, maxiter=500, tol=1e-5):\n",
    "   \n",
    "    converged = False\n",
    "    \n",
    "    xk = x\n",
    "    err = tol + 1\n",
    "    it = 0\n",
    "    \n",
    "    while it < maxiter and err > tol:\n",
    "        rxk = r(xk)\n",
    "        Jxk = J(xk)\n",
    "        Dfxk = Jxk.T @ rxk\n",
    "        D2fxk = Jxk.T @ Jxk\n",
    "        zk = np.linalg.solve(D2fxk, Dfxk)\n",
    "        \n",
    "        xkp1 = xk - zk\n",
    "        err = np.linalg.norm(xkp1 - xk, np.inf)\n",
    "        it += 1\n",
    "        xk = xkp1\n",
    "        \n",
    "    if it < maxiter:\n",
    "        converged = True\n",
    "        \n",
    "    return xk, converged, it"
   ]
  },
  {
   "cell_type": "code",
   "execution_count": 10,
   "metadata": {
    "collapsed": true
   },
   "outputs": [],
   "source": [
    "T = np.arange(10)\n",
    "y = 3*np.sin(0.5*T)+ 0.5*np.random.randn(10)\n",
    "model = lambda x, t: x[0]*np.sin(x[1]*t)\n",
    "residual = lambda x: model(x, T) - y\n",
    "jac = lambda x: np.column_stack((np.sin(x[1]*T), x[0]*T*np.cos(x[1]*T)))"
   ]
  },
  {
   "cell_type": "code",
   "execution_count": 11,
   "metadata": {},
   "outputs": [
    {
     "data": {
      "text/plain": [
       "(array([2.63722036, 0.47947823]), True, 5)"
      ]
     },
     "execution_count": 11,
     "metadata": {},
     "output_type": "execute_result"
    }
   ],
   "source": [
    "x0=np.array([2.5,.6])\n",
    "gnm(model, residual, jac, x0, maxiter=500, tol=1e-5)"
   ]
  },
  {
   "cell_type": "code",
   "execution_count": 12,
   "metadata": {},
   "outputs": [
    {
     "data": {
      "text/plain": [
       "(array([2.63722036, 0.47947823]), 1)"
      ]
     },
     "execution_count": 12,
     "metadata": {},
     "output_type": "execute_result"
    }
   ],
   "source": [
    "minx = opt.leastsq(func=residual, x0=np.array([2.5,.6]), Dfun=jac)\n",
    "minx"
   ]
  },
  {
   "cell_type": "code",
   "execution_count": null,
   "metadata": {
    "collapsed": true
   },
   "outputs": [],
   "source": []
  }
 ],
 "metadata": {
  "kernelspec": {
   "display_name": "Python 3",
   "language": "python",
   "name": "python3"
  },
  "language_info": {
   "codemirror_mode": {
    "name": "ipython",
    "version": 3
   },
   "file_extension": ".py",
   "mimetype": "text/x-python",
   "name": "python",
   "nbconvert_exporter": "python",
   "pygments_lexer": "ipython3",
   "version": "3.6.3"
  }
 },
 "nbformat": 4,
 "nbformat_minor": 2
}
