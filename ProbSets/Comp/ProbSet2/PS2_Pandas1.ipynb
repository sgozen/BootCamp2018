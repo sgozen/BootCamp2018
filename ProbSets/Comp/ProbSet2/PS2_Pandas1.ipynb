{
 "cells": [
  {
   "cell_type": "markdown",
   "metadata": {},
   "source": [
    "# Pandas 1 Exercise\n",
    "\n",
    "### Suleyman Gozen\n",
    " \n",
    " I thank Yung-Hsu Tsui for his valuable comments."
   ]
  },
  {
   "cell_type": "code",
   "execution_count": 7,
   "metadata": {},
   "outputs": [
    {
     "data": {
      "text/plain": [
       "0.0        0.0\n",
       "2.0        3.0\n",
       "4.0       15.0\n",
       "6.0        0.0\n",
       "8.0       63.0\n",
       "10.0      99.0\n",
       "12.0       0.0\n",
       "14.0     195.0\n",
       "16.0     255.0\n",
       "18.0       0.0\n",
       "20.0     399.0\n",
       "22.0     483.0\n",
       "24.0       0.0\n",
       "26.0     675.0\n",
       "28.0     783.0\n",
       "30.0       0.0\n",
       "32.0    1023.0\n",
       "34.0    1155.0\n",
       "36.0       0.0\n",
       "38.0    1443.0\n",
       "40.0    1599.0\n",
       "42.0       0.0\n",
       "44.0    1935.0\n",
       "46.0    2115.0\n",
       "48.0       0.0\n",
       "50.0    2499.0\n",
       "dtype: float64"
      ]
     },
     "execution_count": 7,
     "metadata": {},
     "output_type": "execute_result"
    }
   ],
   "source": [
    "\"\"\" Problem 1 \"\"\"\n",
    "\n",
    "import pandas as pd\n",
    "A = np.linspace(0,50,26)\n",
    "B = A*A-1\n",
    "for i in range(len(B)):\n",
    "    i +=1\n",
    "    if np.remainder(A[i-1],3) == 0:\n",
    "        B[i-1]= 0\n",
    "    else:\n",
    "        B       \n",
    "s = pd.Series(B, index=A)\n",
    "s"
   ]
  },
  {
   "cell_type": "code",
   "execution_count": 10,
   "metadata": {},
   "outputs": [
    {
     "data": {
      "text/plain": [
       "[<matplotlib.lines.Line2D at 0x10a537e80>]"
      ]
     },
     "execution_count": 10,
     "metadata": {},
     "output_type": "execute_result"
    }
   ],
   "source": [
    "\"\"\" Problem 2 \"\"\"\n",
    "\n",
    "import pandas as pd\n",
    "from numpy import random\n",
    "\n",
    "\n",
    "def func(d, p, I):\n",
    "    B = np.linspace(0, len(I)-1, len(I))\n",
    "    B[0] = d\n",
    "    for i in range(1, len(I)):\n",
    "        if B[i-1] < 0:\n",
    "            B[i] = 0\n",
    "        else:\n",
    "            b = np.random.binomial(1, p, 1)\n",
    "            if b == 1:\n",
    "                B[i] = B[i-1] + 1\n",
    "            else: \n",
    "                B[i] = B[i-1] - 1\n",
    "        i += 1\n",
    "    return B\n",
    "I = pd.date_range(\"1/1/2000\", \"12/31/2000\", freq='D')\n",
    "C = pd.Series(func(100,0.5, I ), index= I)\n",
    "plt.plot(C)"
   ]
  },
  {
   "cell_type": "code",
   "execution_count": 5,
   "metadata": {},
   "outputs": [
    {
     "data": {
      "text/html": [
       "<div>\n",
       "<style>\n",
       "    .dataframe thead tr:only-child th {\n",
       "        text-align: right;\n",
       "    }\n",
       "\n",
       "    .dataframe thead th {\n",
       "        text-align: left;\n",
       "    }\n",
       "\n",
       "    .dataframe tbody tr th {\n",
       "        vertical-align: top;\n",
       "    }\n",
       "</style>\n",
       "<table border=\"1\" class=\"dataframe\">\n",
       "  <thead>\n",
       "    <tr style=\"text-align: right;\">\n",
       "      <th></th>\n",
       "      <th>ID</th>\n",
       "      <th>Name</th>\n",
       "    </tr>\n",
       "  </thead>\n",
       "  <tbody>\n",
       "    <tr>\n",
       "      <th>0</th>\n",
       "      <td>0</td>\n",
       "      <td>Mylan</td>\n",
       "    </tr>\n",
       "    <tr>\n",
       "      <th>6</th>\n",
       "      <td>6</td>\n",
       "      <td>Matt</td>\n",
       "    </tr>\n",
       "  </tbody>\n",
       "</table>\n",
       "</div>"
      ],
      "text/plain": [
       "   ID   Name\n",
       "0   0  Mylan\n",
       "6   6   Matt"
      ]
     },
     "execution_count": 5,
     "metadata": {},
     "output_type": "execute_result"
    }
   ],
   "source": [
    "\"\"\" Problem 3 \"\"\"\n",
    "name = ['Mylan', 'Regan', 'Justin', 'Jess', 'Jason', 'Remi', 'Matt', 'Alexander', 'JeanMarie']\n",
    "sex = ['M', 'F', 'M', 'F', 'M', 'F', 'M', 'M', 'F']\n",
    "age = [20, 21, 18, 22, 19, 20, 20, 19, 20]\n",
    "rank = ['Sp', 'Se', 'Fr', 'Se', 'Sp', 'J', 'J', 'J', 'Se']\n",
    "ID = range(9)\n",
    "aid = ['y', 'n', 'n', 'y', 'n', 'n', 'n', 'y', 'n']\n",
    "GPA = [3.8, 3.5, 3.0, 3.9, 2.8, 2.9, 3.8, 3.4, 3.7]\n",
    "mathID = [0, 1, 5, 6, 3]\n",
    "mathGd = [4.0, 3.0, 3.5, 3.0, 4.0]\n",
    "major = ['y', 'n', 'y', 'n', 'n']\n",
    "studentInfo = pd.DataFrame({'ID': ID, 'Name': name, 'Sex': sex, 'Age': age, 'Class': rank})\n",
    "otherInfo = pd.DataFrame({'ID': ID, 'GPA': GPA, 'Financial_Aid': aid})\n",
    "mathInfo = pd.DataFrame({'ID': mathID, 'Grade': mathGd, 'Math_Major': major})\n",
    "\n",
    "male19 = studentInfo[(studentInfo['Age'] > 19)&(studentInfo['Sex'] == 'M')].loc[:,['ID', 'Name']]\n",
    "male19.head()"
   ]
  },
  {
   "cell_type": "code",
   "execution_count": 6,
   "metadata": {},
   "outputs": [
    {
     "data": {
      "text/html": [
       "<div>\n",
       "<style>\n",
       "    .dataframe thead tr:only-child th {\n",
       "        text-align: right;\n",
       "    }\n",
       "\n",
       "    .dataframe thead th {\n",
       "        text-align: left;\n",
       "    }\n",
       "\n",
       "    .dataframe tbody tr th {\n",
       "        vertical-align: top;\n",
       "    }\n",
       "</style>\n",
       "<table border=\"1\" class=\"dataframe\">\n",
       "  <thead>\n",
       "    <tr style=\"text-align: right;\">\n",
       "      <th></th>\n",
       "      <th>ID</th>\n",
       "      <th>Age</th>\n",
       "      <th>GPA</th>\n",
       "    </tr>\n",
       "  </thead>\n",
       "  <tbody>\n",
       "    <tr>\n",
       "      <th>0</th>\n",
       "      <td>0</td>\n",
       "      <td>20</td>\n",
       "      <td>3.8</td>\n",
       "    </tr>\n",
       "    <tr>\n",
       "      <th>2</th>\n",
       "      <td>2</td>\n",
       "      <td>18</td>\n",
       "      <td>3.0</td>\n",
       "    </tr>\n",
       "    <tr>\n",
       "      <th>4</th>\n",
       "      <td>4</td>\n",
       "      <td>19</td>\n",
       "      <td>2.8</td>\n",
       "    </tr>\n",
       "    <tr>\n",
       "      <th>6</th>\n",
       "      <td>6</td>\n",
       "      <td>20</td>\n",
       "      <td>3.8</td>\n",
       "    </tr>\n",
       "    <tr>\n",
       "      <th>7</th>\n",
       "      <td>7</td>\n",
       "      <td>19</td>\n",
       "      <td>3.4</td>\n",
       "    </tr>\n",
       "  </tbody>\n",
       "</table>\n",
       "</div>"
      ],
      "text/plain": [
       "   ID  Age  GPA\n",
       "0   0   20  3.8\n",
       "2   2   18  3.0\n",
       "4   4   19  2.8\n",
       "6   6   20  3.8\n",
       "7   7   19  3.4"
      ]
     },
     "execution_count": 6,
     "metadata": {},
     "output_type": "execute_result"
    }
   ],
   "source": [
    "\"\"\" Problem 4 \"\"\"\n",
    "male = pd.merge(studentInfo, otherInfo, on='ID')[studentInfo['Sex'] == 'M'].loc[:,['ID', 'Age', 'GPA']]\n",
    "male.head()"
   ]
  },
  {
   "cell_type": "code",
   "execution_count": 5,
   "metadata": {},
   "outputs": [
    {
     "data": {
      "image/png": "[encoded data removed]",
      "text/plain": [
       "<matplotlib.figure.Figure at 0x11817d518>"
      ]
     },
     "metadata": {},
     "output_type": "display_data"
    },
    {
     "name": "stdout",
     "output_type": "stream",
     "text": [
      "    Year      Rate\n",
      "20  1980  0.059500\n",
      "31  1991  0.058978\n",
      "21  1981  0.058582\n",
      "30  1990  0.058203\n",
      "29  1989  0.057410\n",
      "Total       1.063807e+07\n",
      "Burglary    2.446286e+06\n",
      "dtype: float64\n",
      "    Year     Total  Burglary\n",
      "13  1973   8718100   2565500\n",
      "14  1974  10253400   3039200\n"
     ]
    },
    {
     "data": {
      "image/png": "[encoded data removed]",
      "text/plain": [
       "<matplotlib.figure.Figure at 0x117e52c88>"
      ]
     },
     "metadata": {},
     "output_type": "display_data"
    }
   ],
   "source": [
    "\"\"\" Problem 5 \"\"\"\n",
    "crime = pd.read_csv('crime_data.txt', skiprows=1)\n",
    "crime[\"Rate\"] = crime[\"Total\"] / crime[\"Population\"]\n",
    "\n",
    "#Plot Crime Rate\n",
    "plt.plot(crime[\"Year\"],crime[\"Rate\"])\n",
    "plt.title(\"Crime Rate\")\n",
    "plt.xlabel(\"Year\")\n",
    "plt.show()\n",
    "\n",
    "#Top 5 years with highest crime\n",
    "print(crime.nlargest(5,'Rate')[['Year','Rate']])\n",
    "\n",
    "#Average Total Crimes\n",
    "print(crime[['Total', 'Burglary']].mean(axis=0))\n",
    "\n",
    "#Total Crimes below, Burgaliers above \n",
    "print(crime[(crime[\"Total\"] < crime[\"Total\"].mean()) & (crime[\"Burglary\"] > crime[\"Burglary\"].mean())].loc[:,[\"Year\",\"Total\",\"Burglary\"]])\n",
    "\n",
    "#Plot murder as function of population\n",
    "plt.plot(crime[\"Population\"],crime[\"Murder\"])\n",
    "plt.xlabel(\"Population\")\n",
    "plt.ylabel(\"Number of Murders\")\n",
    "plt.show()\n",
    "\n",
    "#Save to CSV\n",
    "crime[(crime['Year'] > 1979) & (crime['Year'] < 1990)].loc[:,[\"Population\",\"Violent\",\"Robbery\"]].to_csv(\"crime_subset.txt\")"
   ]
  },
  {
   "cell_type": "code",
   "execution_count": null,
   "metadata": {
    "collapsed": true
   },
   "outputs": [],
   "source": [
    "\"\"\" Problem 6 \"\"\"\n",
    "\n",
    "titanic_data = pd.read_csv('titanic.csv')\n",
    "titanic_data = titanic_data.drop([\"Sibsp\", \"Parch\", \"Cabin\", \"Boat\", \"Body\", \"home.dest\"], axis=1)\n",
    "titanic_data.dropna(subset=['Survived']) # Drop the observations that has NA value in 'Survived' \n",
    "titanic_data.Survived.replace({1: True, 0: False}) # Drop any entries without data in the \"Survived\" column, then change the remaining entries to True or False (they start as 1 or 0).\n",
    "titanic_data.Age.fillna(titanic_data.Age.mean())\n",
    "titanic_data.to_csv('titanic_clean.csv')\n",
    "titanic_clean_data = pd.read_csv('titanic_clean.csv')"
   ]
  },
  {
   "cell_type": "code",
   "execution_count": null,
   "metadata": {
    "collapsed": true
   },
   "outputs": [],
   "source": [
    "# How many peopled survived? What percentage of passengers survived?\n",
    "print('How many survived? : ',titanic_clean_data['Survived'].sum())\n",
    "print('What percentage survived? : ', 100*titanic_clean_data['Survived'].sum()/len(titanic_clean_data['Survived']))\n",
    "\n",
    "#What was the average price of a ticket? \n",
    "#How much did the most expensive ticket cost?\n",
    "print('Average price of a ticket? : ',titanic_clean_data['Fare'].mean())\n",
    "print('Max price of a ticket? : ',titanic_clean_data['Fare'].max())\n",
    "\n",
    "print('Oldest survivor : ',titanic_clean_data[(titanic_clean_data['Survived'] ==1.0)][['Age']].max())\n",
    "\n",
    "print('Youngest survivor : ',titanic_clean_data[(titanic_clean_data['Survived'] ==1.0)][['Age']].min())\n",
    "\n",
    "print('Oldest non-survivor : ',titanic_clean_data[(titanic_clean_data['Survived'] ==0.0)][['Age']].max())\n",
    "\n",
    "print('Yougest non-survivor : ',titanic_clean_data[(titanic_clean_data['Survived'] ==0.0)][['Age']].min())"
   ]
  }
 ],
 "metadata": {
  "kernelspec": {
   "display_name": "Python 3",
   "language": "python",
   "name": "python3"
  },
  "language_info": {
   "codemirror_mode": {
    "name": "ipython",
    "version": 3
   },
   "file_extension": ".py",
   "mimetype": "text/x-python",
   "name": "python",
   "nbconvert_exporter": "python",
   "pygments_lexer": "ipython3",
   "version": "3.6.3"
  }
 },
 "nbformat": 4,
 "nbformat_minor": 2
}
