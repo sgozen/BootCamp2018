{
 "cells": [
  {
   "cell_type": "markdown",
   "metadata": {},
   "source": [
    "# The Drazin Inverse Exercise\n",
    "\n",
    "### Suleyman Gozen\n",
    " \n",
    " I thank Yung-Hsu Tsui for his valuable comments."
   ]
  },
  {
   "cell_type": "code",
   "execution_count": 1,
   "metadata": {
    "collapsed": true
   },
   "outputs": [],
   "source": [
    "import numpy as np\n",
    "import pandas as pd\n",
    "from scipy import linalg as la\n",
    "from scipy.sparse import csgraph"
   ]
  },
  {
   "cell_type": "code",
   "execution_count": 2,
   "metadata": {},
   "outputs": [
    {
     "name": "stdout",
     "output_type": "stream",
     "text": [
      "True\n",
      "True\n"
     ]
    }
   ],
   "source": [
    "\"\"\" Problem 1 \"\"\"\n",
    "\n",
    "def drazin(A,k,AD):\n",
    "\n",
    "    if np.allclose(A@AD, AD@A) and \\\n",
    "    np.allclose(np.linalg.matrix_power(A,k+1)@AD, np.linalg.matrix_power(A,k)) and \\\n",
    "    np.allclose(AD@A@AD,AD):\n",
    "        return True\n",
    "    else:\n",
    "        return False\n",
    "\n",
    "A = np.array([[1,3,0,0],[0,1,3,0],[0,0,1,3],[0,0,0,0]])\n",
    "AD = np.array([[1,-3,9,81],[0,1,-3,-18],[0,0,1,3],[0,0,0,0]])\n",
    "Ak = 1\n",
    "\n",
    "B = np.array([[1,1,3],[5,2,6],[-2,-1,-3]])\n",
    "BD = np.zeros_like(B)\n",
    "Bk = 3\n",
    "\n",
    "print(drazin(A,Ak,AD))\n",
    "print(drazin(B,Bk,BD))"
   ]
  },
  {
   "cell_type": "code",
   "execution_count": 3,
   "metadata": {},
   "outputs": [
    {
     "name": "stdout",
     "output_type": "stream",
     "text": [
      "[[  1.  -3.   9.  81.]\n",
      " [  0.   1.  -3. -18.]\n",
      " [  0.   0.   1.   3.]\n",
      " [  0.   0.   0.   0.]]\n",
      "True\n",
      "[[ 0.  0.  0.]\n",
      " [ 0.  0.  0.]\n",
      " [ 0.  0.  0.]]\n",
      "True\n"
     ]
    }
   ],
   "source": [
    "\"\"\" Problem 2 \"\"\"\n",
    "\n",
    "def get_Drazin(A,tol):\n",
    "    n,n = A.shape\n",
    "    f = lambda x: abs(x) > tol\n",
    "    g = lambda x: abs(x) <= tol\n",
    "    Q1,S,k1 = la.schur(A, sort=f)\n",
    "    Q2,T,k2 = la.schur(A, sort=g)\n",
    "    U = np.concatenate((S[:,:k1],T[:,:n-k1]),axis = 1)\n",
    "    UI = la.inv(U)\n",
    "    V = UI@A@U\n",
    "    Z = np.zeros((n,n))\n",
    "    if k1 != 0:\n",
    "        MI = la.inv(V[:k1,:k1])\n",
    "        Z[:k1,:k1] = MI\n",
    "    return U@Z@UI\n",
    "\n",
    "AD = get_Drazin(A,1e-5)\n",
    "print(AD)\n",
    "print(drazin(A,1,AD))\n",
    "\n",
    "BD = get_Drazin(B,1e-5)\n",
    "print(BD)\n",
    "print(drazin(B,3,BD))"
   ]
  },
  {
   "cell_type": "code",
   "execution_count": 4,
   "metadata": {},
   "outputs": [
    {
     "name": "stdout",
     "output_type": "stream",
     "text": [
      "\n",
      " [[ 0.  1.]\n",
      " [ 1.  0.]]\n",
      "\n",
      " [[ 0.          0.33333333]\n",
      " [ 0.33333333  0.        ]]\n",
      "\n",
      " [[ 0.    0.25]\n",
      " [ 0.25  0.  ]]\n"
     ]
    }
   ],
   "source": [
    "\"\"\" Problem 3 \"\"\"\n",
    "\n",
    "def eff_resistance(A):\n",
    "    n,n = A.shape\n",
    "    L = csgraph.laplacian(A)\n",
    "    R = np.zeros((n,n))\n",
    "    I = np.eye(n)\n",
    "    for i in range(n):\n",
    "        Lj = np.copy(L)\n",
    "        Lj[i,:] = I[i,:] \n",
    "        Lj_drazin = get_Drazin(Lj, 1e-5)\n",
    "        R[:,i] = np.diag(Lj_drazin)\n",
    "        R[i,i] = 0\n",
    "    return R\n",
    "\n",
    "\n",
    "#Figure 16.2, Column 2 Test\n",
    "A = np.array([[0,1],[1,0]])\n",
    "print(\"\\n\",eff_resistance(A))\n",
    "\n",
    "B = np.array([[0,3],[3,0]])\n",
    "print(\"\\n\", eff_resistance(B))\n",
    "\n",
    "C = np.array([[0,4],[4,0]])\n",
    "print(\"\\n\",eff_resistance(C))"
   ]
  },
  {
   "cell_type": "code",
   "execution_count": 5,
   "metadata": {},
   "outputs": [
    {
     "name": "stdout",
     "output_type": "stream",
     "text": [
      "('Oliver', 'Emily')\n",
      "['Carol']\n",
      "['Sonia']\n",
      "['Piers']\n",
      "['Abigail']\n"
     ]
    }
   ],
   "source": [
    "\"\"\" Problem 4 and 5 \"\"\"\n",
    "\n",
    "class LinkPredictor:\n",
    "    \n",
    "    def __init__(self, filename = \"social_network.csv\"):\n",
    "    \n",
    "        with open(filename, 'r') as file:\n",
    "            lines = file.readlines()\n",
    "            \n",
    "        network = np.empty(shape=[0, 2])\n",
    "        for line in lines:\n",
    "            line = line.split(',')\n",
    "            network = np.append(network, [[line[0], line[1].strip()]], axis=0)\n",
    "        names = np.unique(network)\n",
    "        index = {k: v for v, k in enumerate(names)}\n",
    "\n",
    "        matrix = np.zeros((len(names),len(names)))\n",
    "        for i in range(len(network[:,0])):\n",
    "            matrix[index[network[i,0]],index[network[i,1]]] = 1\n",
    "            matrix[index[network[i,1]],index[network[i,0]]] = 1\n",
    "\n",
    "        self.names = names\n",
    "        self.index = index\n",
    "        self.A = matrix\n",
    "        self.eff_R = eff_resistance(matrix)\n",
    " \n",
    "    def predict_link(self, node=None):\n",
    "        \n",
    "        eff_R = self.eff_R.copy()\n",
    "        eff_R[self.A != 0] = 0\n",
    "        \n",
    "        if node != None:\n",
    "            if node not in self.names:\n",
    "                return ValueError(node + \" not in list of names\")\n",
    "            else:\n",
    "                nodecol = eff_R[:, self.index[node]]\n",
    "                minval = np.min(nodecol[nodecol != 0])\n",
    "                loc = np.where(nodecol == minval)\n",
    "                return self.names[loc[0]]\n",
    "        else:\n",
    "            minval = np.min(eff_R[eff_R != 0])\n",
    "            loc = np.where(eff_R == minval)\n",
    "            return self.names[loc[0][0]], self.names[loc[1][0]]\n",
    "            \n",
    "        \n",
    "    def add_link(self, node1, node2):\n",
    "        \n",
    "        if node1 not in self.names:\n",
    "            raise ValueError(node1 + \" not in list of names\")\n",
    "        if node2 not in self.names:\n",
    "            raise ValueError(node2 + \" not in list of names\")   \n",
    "\n",
    "        self.A[self.index[node1],self.index[node2]] = 1\n",
    "        self.A[self.index[node2],self.index[node1]] = 1\n",
    "        self.eff_R = eff_resistance(self.A)\n",
    "\n",
    "        \n",
    "graph = LinkPredictor()\n",
    "print(graph.predict_link())\n",
    "print(graph.predict_link(\"Melanie\"))\n",
    "print(graph.predict_link(\"Alan\"))\n",
    "graph.add_link(\"Alan\", \"Sonia\")\n",
    "print(graph.predict_link(\"Alan\"))\n",
    "graph.add_link(\"Alan\", \"Piers\")\n",
    "print(graph.predict_link(\"Alan\"))"
   ]
  },
  {
   "cell_type": "code",
   "execution_count": null,
   "metadata": {
    "collapsed": true
   },
   "outputs": [],
   "source": []
  }
 ],
 "metadata": {
  "kernelspec": {
   "display_name": "Python 3",
   "language": "python",
   "name": "python3"
  },
  "language_info": {
   "codemirror_mode": {
    "name": "ipython",
    "version": 3
   },
   "file_extension": ".py",
   "mimetype": "text/x-python",
   "name": "python",
   "nbconvert_exporter": "python",
   "pygments_lexer": "ipython3",
   "version": "3.6.3"
  }
 },
 "nbformat": 4,
 "nbformat_minor": 2
}
