{
 "cells": [
  {
   "cell_type": "markdown",
   "metadata": {
    "collapsed": true
   },
   "source": [
    "# The QR Decomposition Exercise\n",
    "\n",
    "### Suleyman Gozen\n",
    " \n",
    " I thank Yung-Hsu Tsui for his valuable comments."
   ]
  },
  {
   "cell_type": "code",
   "execution_count": 1,
   "metadata": {
    "collapsed": true
   },
   "outputs": [],
   "source": [
    "import numpy as np\n",
    "from scipy import linalg as la"
   ]
  },
  {
   "cell_type": "code",
   "execution_count": 2,
   "metadata": {},
   "outputs": [
    {
     "name": "stdout",
     "output_type": "stream",
     "text": [
      "(6, 4) (6, 4) (4, 4)\n",
      "(6, 4) (6, 4) (4, 4)\n",
      "True\n",
      "True\n",
      "True\n",
      "True\n",
      "True\n",
      "True\n"
     ]
    }
   ],
   "source": [
    "\"\"\" Problem 1 \"\"\"\n",
    "\n",
    "def reduced_qr(A):\n",
    "    m,n = A.shape\n",
    "    Q = np.copy(A)\n",
    "    R = np.zeros((n,n))\n",
    "    \n",
    "    for i in range(n):\n",
    "        R[i,i] = la.norm(Q[:,i])\n",
    "        Q[:,i] = Q[:,i]/R[i,i]\n",
    "        for j in range(i+1, n):\n",
    "            R[i,j] = Q[:,j].T@Q[:,i]\n",
    "            Q[:,j] += -R[i,j]*Q[:,i]\n",
    "    \n",
    "    return Q,R\n",
    "            \n",
    "            \n",
    "# Generate a random matrix and get its reduced QR decomposition via SciPy.\n",
    "A = np.random.random((6,4))\n",
    "Qprime,Rprime = la.qr(A, mode=\"economic\") # Use mode=\"economic\" for reduced QR.\n",
    "Q, R = reduced_qr(A)\n",
    "print(A.shape, Qprime.shape, Rprime.shape)\n",
    "print(A.shape, Q.shape, R.shape)\n",
    "\n",
    "# Verify that R is upper triangular, Q is orthonormal, and QR = A.\n",
    "print(np.allclose(np.triu(Rprime), Rprime))\n",
    "print(np.allclose(np.dot(Qprime.T, Qprime), np.identity(4)))\n",
    "print(np.allclose(np.dot(Qprime, Rprime), A))\n",
    "\n",
    "print(np.allclose(np.triu(R), R))\n",
    "print(np.allclose(np.dot(Q.T, Q), np.identity(4)))\n",
    "print(np.allclose(np.dot(Q, R), A))"
   ]
  },
  {
   "cell_type": "code",
   "execution_count": 3,
   "metadata": {},
   "outputs": [
    {
     "name": "stdout",
     "output_type": "stream",
     "text": [
      "0.032641055916978634\n",
      "0.032641055917\n"
     ]
    }
   ],
   "source": [
    "\"\"\" Problem 2 \"\"\"\n",
    "def abs_det(A):\n",
    "    det = np.product(np.diag(reduced_qr(A)[1]))\n",
    "    return det\n",
    "\n",
    "#compare scipy det and my det\n",
    "A = np.random.random((4,4))\n",
    "print(abs(la.det(A)))\n",
    "print(abs_det(A))"
   ]
  },
  {
   "cell_type": "code",
   "execution_count": 4,
   "metadata": {},
   "outputs": [
    {
     "name": "stdout",
     "output_type": "stream",
     "text": [
      "[ 4.33089673 -3.60016664  5.13541337 -2.05435747]\n",
      "[ 4.33089673 -3.60016664  5.13541337 -2.05435747]\n"
     ]
    }
   ],
   "source": [
    "\"\"\" Problem 3 \"\"\"\n",
    "\n",
    "def Axb(A,b):\n",
    "    Q, R = reduced_qr(A)\n",
    "    y = Q.T@b\n",
    "    x = np.zeros_like(b)\n",
    "    n = R.shape[0]\n",
    "    \n",
    "    x[-1] = y[-1]/ R[-1, -1] \n",
    "    \n",
    "    for i in range(n-2, -1, -1):\n",
    "        x[i] = y[i]     \n",
    "        for j in range(i+1, n):\n",
    "            x[i] += -x[j]* R[i,j]        \n",
    "        x[i] = x[i]/R[i,i]\n",
    "    \n",
    "    return x\n",
    "\n",
    "b = np.ones(4)\n",
    "print(la.solve(A,b))\n",
    "print(Axb(A,b))"
   ]
  },
  {
   "cell_type": "code",
   "execution_count": 5,
   "metadata": {},
   "outputs": [
    {
     "name": "stdout",
     "output_type": "stream",
     "text": [
      "(5, 3) (5, 5) (5, 3)\n",
      "True\n",
      "(5, 3) (5, 5) (5, 3)\n",
      "True\n"
     ]
    }
   ],
   "source": [
    "\"\"\" Problem 4 \"\"\"\n",
    "\n",
    "def HH_QR(A):\n",
    "    m,n = A.shape\n",
    "    R = np.copy(A)\n",
    "    Q = np.eye(m)\n",
    "\n",
    "    for k in range(0,n):\n",
    "        u = np.copy(R[k:,k])\n",
    "        sign = lambda x: 1 if x >= 0 else -1\n",
    "        u[0] += sign(u[0])*la.norm(u)\n",
    "        u = u/la.norm(u)\n",
    "        R[k:,k:] += - 2*np.outer(u,np.dot(u.T, R[k:,k:] ))\n",
    "        Q[k:,:] += - 2*np.outer(u,np.dot(u.T, Q[k:,:] ))\n",
    "        \n",
    "    return Q.T, R\n",
    "\n",
    "A = np.random.random((5, 3))\n",
    "Qprime,Rprime = la.qr(A)\n",
    "Q, R = HH_QR(A)\n",
    "print (A.shape, Q.shape, R.shape)\n",
    "print(np.allclose(Q.dot(R), A))\n",
    "print (A.shape, Qprime.shape, Rprime.shape)\n",
    "print(np.allclose(Qprime.dot(Rprime), A))\n"
   ]
  },
  {
   "cell_type": "code",
   "execution_count": 6,
   "metadata": {},
   "outputs": [
    {
     "name": "stdout",
     "output_type": "stream",
     "text": [
      "True\n",
      "True\n",
      "True\n",
      "True\n"
     ]
    }
   ],
   "source": [
    "\"\"\" Problem 5 \"\"\"\n",
    "\n",
    "def hessenberg(A):\n",
    "    m,n = A.shape\n",
    "    H = np.copy(A)\n",
    "    Q = np.eye(m)\n",
    "\n",
    "    for k in range(n-2):\n",
    "        u = np.copy(H[k+1:,k])\n",
    "        sign = lambda x: 1 if x >= 0 else -1\n",
    "        u[0] += sign(u[0])*la.norm(u)\n",
    "        u = u/la.norm(u)\n",
    "        H[k+1:,k:] -= 2*np.outer(u,np.dot(u.T, H[k+1:,k:]))\n",
    "        H[:,k+1:] -= 2*np.outer(np.dot(H[:,k+1:],u),u.T)\n",
    "        Q[k+1:,:] -= 2*np.outer(u,np.dot(u.T, Q[k+1:,:] ))       \n",
    "        \n",
    "    return H, Q.T\n",
    "\n",
    "A = np.random.random((8,8))\n",
    "# Verify that H has all zeros below the first subdiagonal and QHQ^T = A.\n",
    "Hprime, Qprime = la.hessenberg(A, calc_q=True)\n",
    "print(np.allclose(np.triu(Hprime, -1), Hprime))\n",
    "print(np.allclose(np.dot(np.dot(Qprime, Hprime), Qprime.T), A))\n",
    "\n",
    "H, Q = hessenberg(A)\n",
    "print(np.allclose(np.triu(H, -1), H))\n",
    "print(np.allclose(np.dot(np.dot(Q, H), Q.T), A))"
   ]
  },
  {
   "cell_type": "code",
   "execution_count": null,
   "metadata": {
    "collapsed": true
   },
   "outputs": [],
   "source": []
  }
 ],
 "metadata": {
  "kernelspec": {
   "display_name": "Python 3",
   "language": "python",
   "name": "python3"
  },
  "language_info": {
   "codemirror_mode": {
    "name": "ipython",
    "version": 3
   },
   "file_extension": ".py",
   "mimetype": "text/x-python",
   "name": "python",
   "nbconvert_exporter": "python",
   "pygments_lexer": "ipython3",
   "version": "3.6.3"
  }
 },
 "nbformat": 4,
 "nbformat_minor": 2
}
